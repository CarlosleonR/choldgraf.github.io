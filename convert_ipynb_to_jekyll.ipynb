{
 "cells": [
  {
   "cell_type": "markdown",
   "metadata": {},
   "source": [
    "# Do two things:\n",
    "\n",
    "* Convert filenames to include the date\n",
    "* Add a raw cell to the top of notebooks with the jekyll header"
   ]
  },
  {
   "cell_type": "code",
   "execution_count": 80,
   "metadata": {},
   "outputs": [],
   "source": [
    "from glob import glob\n",
    "import os\n",
    "import shutil as sh\n",
    "import nbformat as nbf\n",
    "from tqdm import tqdm\n",
    "from copy import deepcopy"
   ]
  },
  {
   "cell_type": "code",
   "execution_count": 82,
   "metadata": {},
   "outputs": [
    {
     "name": "stderr",
     "output_type": "stream",
     "text": [
      "100%|██████████| 13/13 [00:02<00:00,  5.48it/s]\n"
     ]
    }
   ],
   "source": [
    "sh.rmtree('content/')\n",
    "sh.copytree('../choldgraf.github.io/content/', 'content/')\n",
    "\n",
    "path_notebooks_new = './notebooks/'\n",
    "ipynb_files = glob('content/articles/**/*.ipynb', recursive=True)\n",
    "\n",
    "for ifile in tqdm(ipynb_files):\n",
    "    file_name = os.path.basename(ifile)\n",
    "    file_path = os.path.dirname(ifile)\n",
    "    \n",
    "    # Parse metadata\n",
    "    meta_path = file_name + '-meta'\n",
    "    with open(os.path.join(file_path, meta_path), 'r') as ff:\n",
    "        lines = ff.readlines()\n",
    "        lines = [ii.strip() for ii in lines]\n",
    "        meta = {ii.split(':')[0]: ii.split(':')[1] for ii in lines}\n",
    "    \n",
    "    year = meta['Date'].strip().split('-')[0]\n",
    "    use_data = {'date': meta['Date'].strip().split(' ')[0],\n",
    "            'category': meta['Category'].strip(),\n",
    "            'tags': meta['Tags'].strip(),\n",
    "            'permalink': meta['Slug'].strip(),\n",
    "            'title': meta['Title'].strip()}\n",
    "\n",
    "    if meta.get('Interactive'):\n",
    "        use_data['interactive'] = meta['Interactive'].strip()\n",
    "\n",
    "    new_name = file_name\n",
    "    if '-' in new_name:\n",
    "        new_name = '-'.join(new_name.split('-')[1:])\n",
    "    new_name = use_data['date'] + '-' + new_name\n",
    "\n",
    "    # This is the metadata cell\n",
    "    cell_source = ['---']\n",
    "    for key, val in use_data.items():\n",
    "        cell_source.append('{}: {}'.format(key, val))\n",
    "    cell_source.append('---')\n",
    "    cell_source = '\\n'.join(cell_source)\n",
    "\n",
    "    # Read in notebook\n",
    "    new_cell = nbf.NotebookNode(cell_type='raw', source=cell_source, metadata={})\n",
    "    ntbk = nbf.read(ifile, nbf.NO_CONVERT)\n",
    "    ntbk.cells.insert(0, new_cell)\n",
    "    \n",
    "    nbf.write(ntbk, ifile)\n",
    "    if not os.path.exists(os.path.join(path_notebooks_new, year)):\n",
    "        os.makedirs(os.path.join(path_notebooks_new, year))\n",
    "    sh.move(ifile, os.path.join(path_notebooks_new, year, new_name))\n",
    "    os.remove(os.path.join(file_path, meta_path))\n",
    "    \n",
    "# Remove ipynb checkpoints\n",
    "for ifolder in glob('../content/**/.ipynb_checkpoints', recursive=True) + glob('../content/**/html', recursive=True):\n",
    "    sh.rmtree(ifolder)\n"
   ]
  },
  {
   "cell_type": "code",
   "execution_count": 51,
   "metadata": {},
   "outputs": [
    {
     "data": {
      "text/plain": [
       "{'cell_type': 'raw',\n",
       " 'metadata': {},\n",
       " 'source': '---\\ntags: python, programming, timeseries, correlation\\ncategory: neuroscience\\ndate: 2015-05-27\\npermalink: coherence-correlation-comparison\\n---'}"
      ]
     },
     "execution_count": 51,
     "metadata": {},
     "output_type": "execute_result"
    }
   ],
   "source": []
  },
  {
   "cell_type": "code",
   "execution_count": 29,
   "metadata": {},
   "outputs": [
    {
     "data": {
      "text/plain": [
       "{'cell_type': 'raw',\n",
       " 'metadata': '{}',\n",
       " 'source': '---\\ntags:  python, open science\\ncategory: dates, formatting, visualization, regression\\ndate: \\npermalink:  date-analysis-viz-python\\ninteractive: True\\n---'}"
      ]
     },
     "execution_count": 29,
     "metadata": {},
     "output_type": "execute_result"
    }
   ],
   "source": [
    "ntbk.cells[0]"
   ]
  },
  {
   "cell_type": "code",
   "execution_count": 22,
   "metadata": {},
   "outputs": [],
   "source": []
  },
  {
   "cell_type": "code",
   "execution_count": 17,
   "metadata": {},
   "outputs": [
    {
     "data": {
      "text/plain": [
       "{'cell_type': 'markdown',\n",
       " 'metadata': {},\n",
       " 'source': \"# Combining multiple plots with dates in Python\\n\\nSometimes you want to do two things:\\n\\n1. Plot a timeseries that handles datetimes in a clever way (e.g., with Pandas or Matplotlib)\\n2. Plot some kind of analysis on top of that timeseries.\\n\\nSounds simple right? It's not.\\n\\nThe reason for this is that plotting libraries don't *really* plot human-readable dates, they convert dates to numbers, then change the xtick labels so that they're human readable. This means that if you want to plot something *on top* of dates, it's quite confusing.\\n\\nTo demonstrate this, let's grab the latest stock market prices for a couple companies and\\nfit regression lines to them...\"}"
      ]
     },
     "execution_count": 17,
     "metadata": {},
     "output_type": "execute_result"
    }
   ],
   "source": [
    "\n"
   ]
  },
  {
   "cell_type": "code",
   "execution_count": null,
   "metadata": {},
   "outputs": [],
   "source": []
  }
 ],
 "metadata": {
  "kernelspec": {
   "display_name": "Python 3",
   "language": "python",
   "name": "python3"
  },
  "language_info": {
   "codemirror_mode": {
    "name": "ipython",
    "version": 3
   },
   "file_extension": ".py",
   "mimetype": "text/x-python",
   "name": "python",
   "nbconvert_exporter": "python",
   "pygments_lexer": "ipython3",
   "version": "3.5.4"
  }
 },
 "nbformat": 4,
 "nbformat_minor": 2
}
